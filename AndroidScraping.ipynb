{
 "cells": [
  {
   "cell_type": "code",
   "execution_count": 2,
   "id": "3a371083",
   "metadata": {},
   "outputs": [],
   "source": [
    "import pandas as pd\n",
    "from bs4 import BeautifulSoup\n",
    "import requests"
   ]
  },
  {
   "cell_type": "code",
   "execution_count": 7,
   "id": "e768e90e",
   "metadata": {},
   "outputs": [],
   "source": [
    "Response = requests.get('https://github.com/topics/android')\n",
    "Res = Response.text\n",
    "# Response.status_code"
   ]
  },
  {
   "cell_type": "code",
   "execution_count": 12,
   "id": "76a68cdf",
   "metadata": {},
   "outputs": [],
   "source": [
    "WholeData = BeautifulSoup(Res, 'html.parser')"
   ]
  },
  {
   "cell_type": "code",
   "execution_count": 45,
   "id": "95cab678",
   "metadata": {},
   "outputs": [
    {
     "data": {
      "text/plain": [
       "20"
      ]
     },
     "execution_count": 45,
     "metadata": {},
     "output_type": "execute_result"
    }
   ],
   "source": [
    "UnameNRepo = WholeData.find_all('h3', class_ = 'f3 color-fg-muted text-normal lh-condensed')\n",
    "len(UnameNRepo)"
   ]
  },
  {
   "cell_type": "code",
   "execution_count": 52,
   "id": "ee2242d5",
   "metadata": {},
   "outputs": [
    {
     "data": {
      "text/plain": [
       "'flutter\\n          /\\n          \\n            flutter'"
      ]
     },
     "execution_count": 52,
     "metadata": {},
     "output_type": "execute_result"
    }
   ],
   "source": [
    "Username = UnameNRepo\n",
    "Username[0].text.strip()"
   ]
  },
  {
   "cell_type": "code",
   "execution_count": 97,
   "id": "44951216",
   "metadata": {},
   "outputs": [
    {
     "data": {
      "text/plain": [
       "'\\n          \\n            flutter\\n '"
      ]
     },
     "execution_count": 97,
     "metadata": {},
     "output_type": "execute_result"
    }
   ],
   "source": [
    "Username = WholeData.find_all('h3', class_ = 'f3 color-fg-muted text-normal lh-condensed')\n",
    "NewUsername = Username[0].text.split('/')\n",
    "RepoName = Username[1]\n",
    "NewUsername[0]\n",
    "\n",
    "NewUsername[1]"
   ]
  },
  {
   "cell_type": "code",
   "execution_count": 113,
   "id": "d45da039",
   "metadata": {},
   "outputs": [
    {
     "data": {
      "text/plain": [
       "'Flutter makes it easy and fast to build beautiful apps for mobile and beyond'"
      ]
     },
     "execution_count": 113,
     "metadata": {},
     "output_type": "execute_result"
    }
   ],
   "source": [
    "#Description\n",
    "Des = WholeData.find_all('p', class_ = 'color-fg-muted mb-0')\n",
    "Des[0].text"
   ]
  },
  {
   "cell_type": "code",
   "execution_count": 116,
   "id": "3c7f7700",
   "metadata": {},
   "outputs": [
    {
     "data": {
      "text/plain": [
       "['Flutter makes it easy and fast to build beautiful apps for mobile and beyond',\n",
       " 'A framework for building native applications using React',\n",
       " '📚 免费的计算机编程类中文书籍，欢迎投稿',\n",
       " 'Display and control your Android device',\n",
       " 'A collection of various awesome lists for hackers, pentesters and security researchers',\n",
       " 'An awesome list that curates the best Flutter libraries, tools, tutorials, articles and more.',\n",
       " 'Material Design icons by Google',\n",
       " 'A curated list of awesome Android UI/UX libraries',\n",
       " 'Square’s meticulous HTTP client for the JVM, Android, and GraalVM.',\n",
       " 'A collection of samples to discuss and showcase different architectural tools and patterns for Android apps.',\n",
       " 'A type-safe HTTP client for Android and the JVM',\n",
       " 'Joplin - the secure note taking and to-do app with synchronisation capabilities for Windows, macOS, Linux, Android and iOS.',\n",
       " 'A cross-platform framework using Vue.js',\n",
       " '🚀 The easiest way to automate building and releasing your iOS and Android apps',\n",
       " 'Build like a team of hundreds_',\n",
       " 'A powerful 🚀 Android chart view / graph view library, supporting line- bar- pie- radar- bubble- and candlestick charts as well as scaling, panning and animations.',\n",
       " 'Dex to Java decompiler',\n",
       " 'Render After Effects animations natively on Android and iOS, Web, and React Native',\n",
       " 'A shadowsocks client for Android',\n",
       " 'An image loading and caching library for Android focused on smooth scrolling']"
      ]
     },
     "execution_count": 116,
     "metadata": {},
     "output_type": "execute_result"
    }
   ],
   "source": [
    "DescriptionList = []\n",
    "\n",
    "for des in Des:\n",
    "    DescriptionList.append(des.text)\n",
    "    \n",
    "DescriptionList"
   ]
  },
  {
   "cell_type": "code",
   "execution_count": 135,
   "id": "a4e8e2a8",
   "metadata": {},
   "outputs": [
    {
     "data": {
      "text/plain": [
       "[['flutter', '          /', '          ', '            flutter'],\n",
       " ['facebook', '          /', '          ', '            react-native'],\n",
       " ['justjavac',\n",
       "  '          /',\n",
       "  '          ',\n",
       "  '            free-programming-books-zh_CN'],\n",
       " ['Genymobile', '          /', '          ', '            scrcpy'],\n",
       " ['Hack-with-Github',\n",
       "  '          /',\n",
       "  '          ',\n",
       "  '            Awesome-Hacking'],\n",
       " ['Solido', '          /', '          ', '            awesome-flutter'],\n",
       " ['google', '          /', '          ', '            material-design-icons'],\n",
       " ['wasabeef', '          /', '          ', '            awesome-android-ui'],\n",
       " ['square', '          /', '          ', '            okhttp'],\n",
       " ['android', '          /', '          ', '            architecture-samples'],\n",
       " ['square', '          /', '          ', '            retrofit'],\n",
       " ['laurent22', '          /', '          ', '            joplin'],\n",
       " ['dcloudio', '          /', '          ', '            uni-app'],\n",
       " ['fastlane', '          /', '          ', '            fastlane'],\n",
       " ['appwrite', '          /', '          ', '            appwrite'],\n",
       " ['PhilJay', '          /', '          ', '            MPAndroidChart'],\n",
       " ['skylot', '          /', '          ', '            jadx'],\n",
       " ['airbnb', '          /', '          ', '            lottie-android'],\n",
       " ['shadowsocks',\n",
       "  '          /',\n",
       "  '          ',\n",
       "  '            shadowsocks-android'],\n",
       " ['bumptech', '          /', '          ', '            glide']]"
      ]
     },
     "execution_count": 135,
     "metadata": {},
     "output_type": "execute_result"
    }
   ],
   "source": [
    "UsernameList = []\n",
    "\n",
    "for uname in Username:\n",
    "    UsernameList.append(uname.text.strip().split('\\n'))\n",
    "    UsernameList[0][0]\n",
    "UsernameList"
   ]
  },
  {
   "cell_type": "code",
   "execution_count": 160,
   "id": "f2c73918",
   "metadata": {},
   "outputs": [
    {
     "data": {
      "text/plain": [
       "[['flutter', '          /', '          ', '            flutter'],\n",
       " ['facebook', '          /', '          ', '            react-native'],\n",
       " ['justjavac',\n",
       "  '          /',\n",
       "  '          ',\n",
       "  '            free-programming-books-zh_CN'],\n",
       " ['Genymobile', '          /', '          ', '            scrcpy'],\n",
       " ['Hack-with-Github',\n",
       "  '          /',\n",
       "  '          ',\n",
       "  '            Awesome-Hacking'],\n",
       " ['Solido', '          /', '          ', '            awesome-flutter'],\n",
       " ['google', '          /', '          ', '            material-design-icons'],\n",
       " ['wasabeef', '          /', '          ', '            awesome-android-ui'],\n",
       " ['square', '          /', '          ', '            okhttp'],\n",
       " ['android', '          /', '          ', '            architecture-samples'],\n",
       " ['square', '          /', '          ', '            retrofit'],\n",
       " ['laurent22', '          /', '          ', '            joplin'],\n",
       " ['dcloudio', '          /', '          ', '            uni-app'],\n",
       " ['fastlane', '          /', '          ', '            fastlane'],\n",
       " ['appwrite', '          /', '          ', '            appwrite'],\n",
       " ['PhilJay', '          /', '          ', '            MPAndroidChart'],\n",
       " ['skylot', '          /', '          ', '            jadx'],\n",
       " ['airbnb', '          /', '          ', '            lottie-android'],\n",
       " ['shadowsocks',\n",
       "  '          /',\n",
       "  '          ',\n",
       "  '            shadowsocks-android'],\n",
       " ['bumptech', '          /', '          ', '            glide']]"
      ]
     },
     "execution_count": 160,
     "metadata": {},
     "output_type": "execute_result"
    }
   ],
   "source": [
    "#Repo name\n",
    "RepoList = []\n",
    "\n",
    "for uname in Username:\n",
    "    RepoList.append(uname.text.strip().split('\\n'))\n",
    "    RepoList[0][3][3]\n",
    "RepoList"
   ]
  },
  {
   "cell_type": "code",
   "execution_count": 165,
   "id": "61931aa9",
   "metadata": {},
   "outputs": [
    {
     "data": {
      "text/plain": [
       "'158k'"
      ]
     },
     "execution_count": 165,
     "metadata": {},
     "output_type": "execute_result"
    }
   ],
   "source": [
    "stars = WholeData.find_all('span', class_ = 'Counter js-social-count')\n",
    "stars[0].text"
   ]
  },
  {
   "cell_type": "code",
   "execution_count": 168,
   "id": "a3683c77",
   "metadata": {},
   "outputs": [
    {
     "data": {
      "text/plain": [
       "['158k',\n",
       " '113k',\n",
       " '106k',\n",
       " '92.8k',\n",
       " '70.4k',\n",
       " '48.9k',\n",
       " '48.8k',\n",
       " '47.6k',\n",
       " '44.6k',\n",
       " '43.2k',\n",
       " '42.1k',\n",
       " '39.2k',\n",
       " '38.7k',\n",
       " '37.7k',\n",
       " '37.5k',\n",
       " '36.9k',\n",
       " '36.7k',\n",
       " '34.3k',\n",
       " '34.1k',\n",
       " '34k']"
      ]
     },
     "execution_count": 168,
     "metadata": {},
     "output_type": "execute_result"
    }
   ],
   "source": [
    "StarList = []\n",
    "\n",
    "for star in stars:\n",
    "    StarList.append(star.text)\n",
    "    \n",
    "StarList"
   ]
  },
  {
   "cell_type": "code",
   "execution_count": 171,
   "id": "ee55c4b4",
   "metadata": {},
   "outputs": [
    {
     "data": {
      "text/html": [
       "<div>\n",
       "<style scoped>\n",
       "    .dataframe tbody tr th:only-of-type {\n",
       "        vertical-align: middle;\n",
       "    }\n",
       "\n",
       "    .dataframe tbody tr th {\n",
       "        vertical-align: top;\n",
       "    }\n",
       "\n",
       "    .dataframe thead th {\n",
       "        text-align: right;\n",
       "    }\n",
       "</style>\n",
       "<table border=\"1\" class=\"dataframe\">\n",
       "  <thead>\n",
       "    <tr style=\"text-align: right;\">\n",
       "      <th></th>\n",
       "      <th>Username</th>\n",
       "      <th>Repo Name</th>\n",
       "      <th>Description</th>\n",
       "      <th>Stars</th>\n",
       "    </tr>\n",
       "  </thead>\n",
       "  <tbody>\n",
       "    <tr>\n",
       "      <th>0</th>\n",
       "      <td>[flutter,           /,           ,            ...</td>\n",
       "      <td>[flutter,           /,           ,            ...</td>\n",
       "      <td>Flutter makes it easy and fast to build beauti...</td>\n",
       "      <td>158k</td>\n",
       "    </tr>\n",
       "    <tr>\n",
       "      <th>1</th>\n",
       "      <td>[facebook,           /,           ,           ...</td>\n",
       "      <td>[facebook,           /,           ,           ...</td>\n",
       "      <td>A framework for building native applications u...</td>\n",
       "      <td>113k</td>\n",
       "    </tr>\n",
       "    <tr>\n",
       "      <th>2</th>\n",
       "      <td>[justjavac,           /,           ,          ...</td>\n",
       "      <td>[justjavac,           /,           ,          ...</td>\n",
       "      <td>📚 免费的计算机编程类中文书籍，欢迎投稿</td>\n",
       "      <td>106k</td>\n",
       "    </tr>\n",
       "    <tr>\n",
       "      <th>3</th>\n",
       "      <td>[Genymobile,           /,           ,         ...</td>\n",
       "      <td>[Genymobile,           /,           ,         ...</td>\n",
       "      <td>Display and control your Android device</td>\n",
       "      <td>92.8k</td>\n",
       "    </tr>\n",
       "    <tr>\n",
       "      <th>4</th>\n",
       "      <td>[Hack-with-Github,           /,           ,   ...</td>\n",
       "      <td>[Hack-with-Github,           /,           ,   ...</td>\n",
       "      <td>A collection of various awesome lists for hack...</td>\n",
       "      <td>70.4k</td>\n",
       "    </tr>\n",
       "    <tr>\n",
       "      <th>5</th>\n",
       "      <td>[Solido,           /,           ,             ...</td>\n",
       "      <td>[Solido,           /,           ,             ...</td>\n",
       "      <td>An awesome list that curates the best Flutter ...</td>\n",
       "      <td>48.9k</td>\n",
       "    </tr>\n",
       "    <tr>\n",
       "      <th>6</th>\n",
       "      <td>[google,           /,           ,             ...</td>\n",
       "      <td>[google,           /,           ,             ...</td>\n",
       "      <td>Material Design icons by Google</td>\n",
       "      <td>48.8k</td>\n",
       "    </tr>\n",
       "    <tr>\n",
       "      <th>7</th>\n",
       "      <td>[wasabeef,           /,           ,           ...</td>\n",
       "      <td>[wasabeef,           /,           ,           ...</td>\n",
       "      <td>A curated list of awesome Android UI/UX libraries</td>\n",
       "      <td>47.6k</td>\n",
       "    </tr>\n",
       "    <tr>\n",
       "      <th>8</th>\n",
       "      <td>[square,           /,           ,             ...</td>\n",
       "      <td>[square,           /,           ,             ...</td>\n",
       "      <td>Square’s meticulous HTTP client for the JVM, A...</td>\n",
       "      <td>44.6k</td>\n",
       "    </tr>\n",
       "    <tr>\n",
       "      <th>9</th>\n",
       "      <td>[android,           /,           ,            ...</td>\n",
       "      <td>[android,           /,           ,            ...</td>\n",
       "      <td>A collection of samples to discuss and showcas...</td>\n",
       "      <td>43.2k</td>\n",
       "    </tr>\n",
       "    <tr>\n",
       "      <th>10</th>\n",
       "      <td>[square,           /,           ,             ...</td>\n",
       "      <td>[square,           /,           ,             ...</td>\n",
       "      <td>A type-safe HTTP client for Android and the JVM</td>\n",
       "      <td>42.1k</td>\n",
       "    </tr>\n",
       "    <tr>\n",
       "      <th>11</th>\n",
       "      <td>[laurent22,           /,           ,          ...</td>\n",
       "      <td>[laurent22,           /,           ,          ...</td>\n",
       "      <td>Joplin - the secure note taking and to-do app ...</td>\n",
       "      <td>39.2k</td>\n",
       "    </tr>\n",
       "    <tr>\n",
       "      <th>12</th>\n",
       "      <td>[dcloudio,           /,           ,           ...</td>\n",
       "      <td>[dcloudio,           /,           ,           ...</td>\n",
       "      <td>A cross-platform framework using Vue.js</td>\n",
       "      <td>38.7k</td>\n",
       "    </tr>\n",
       "    <tr>\n",
       "      <th>13</th>\n",
       "      <td>[fastlane,           /,           ,           ...</td>\n",
       "      <td>[fastlane,           /,           ,           ...</td>\n",
       "      <td>🚀 The easiest way to automate building and rel...</td>\n",
       "      <td>37.7k</td>\n",
       "    </tr>\n",
       "    <tr>\n",
       "      <th>14</th>\n",
       "      <td>[appwrite,           /,           ,           ...</td>\n",
       "      <td>[appwrite,           /,           ,           ...</td>\n",
       "      <td>Build like a team of hundreds_</td>\n",
       "      <td>37.5k</td>\n",
       "    </tr>\n",
       "    <tr>\n",
       "      <th>15</th>\n",
       "      <td>[PhilJay,           /,           ,            ...</td>\n",
       "      <td>[PhilJay,           /,           ,            ...</td>\n",
       "      <td>A powerful 🚀 Android chart view / graph view l...</td>\n",
       "      <td>36.9k</td>\n",
       "    </tr>\n",
       "    <tr>\n",
       "      <th>16</th>\n",
       "      <td>[skylot,           /,           ,             ...</td>\n",
       "      <td>[skylot,           /,           ,             ...</td>\n",
       "      <td>Dex to Java decompiler</td>\n",
       "      <td>36.7k</td>\n",
       "    </tr>\n",
       "    <tr>\n",
       "      <th>17</th>\n",
       "      <td>[airbnb,           /,           ,             ...</td>\n",
       "      <td>[airbnb,           /,           ,             ...</td>\n",
       "      <td>Render After Effects animations natively on An...</td>\n",
       "      <td>34.3k</td>\n",
       "    </tr>\n",
       "    <tr>\n",
       "      <th>18</th>\n",
       "      <td>[shadowsocks,           /,           ,        ...</td>\n",
       "      <td>[shadowsocks,           /,           ,        ...</td>\n",
       "      <td>A shadowsocks client for Android</td>\n",
       "      <td>34.1k</td>\n",
       "    </tr>\n",
       "    <tr>\n",
       "      <th>19</th>\n",
       "      <td>[bumptech,           /,           ,           ...</td>\n",
       "      <td>[bumptech,           /,           ,           ...</td>\n",
       "      <td>An image loading and caching library for Andro...</td>\n",
       "      <td>34k</td>\n",
       "    </tr>\n",
       "  </tbody>\n",
       "</table>\n",
       "</div>"
      ],
      "text/plain": [
       "                                             Username  \\\n",
       "0   [flutter,           /,           ,            ...   \n",
       "1   [facebook,           /,           ,           ...   \n",
       "2   [justjavac,           /,           ,          ...   \n",
       "3   [Genymobile,           /,           ,         ...   \n",
       "4   [Hack-with-Github,           /,           ,   ...   \n",
       "5   [Solido,           /,           ,             ...   \n",
       "6   [google,           /,           ,             ...   \n",
       "7   [wasabeef,           /,           ,           ...   \n",
       "8   [square,           /,           ,             ...   \n",
       "9   [android,           /,           ,            ...   \n",
       "10  [square,           /,           ,             ...   \n",
       "11  [laurent22,           /,           ,          ...   \n",
       "12  [dcloudio,           /,           ,           ...   \n",
       "13  [fastlane,           /,           ,           ...   \n",
       "14  [appwrite,           /,           ,           ...   \n",
       "15  [PhilJay,           /,           ,            ...   \n",
       "16  [skylot,           /,           ,             ...   \n",
       "17  [airbnb,           /,           ,             ...   \n",
       "18  [shadowsocks,           /,           ,        ...   \n",
       "19  [bumptech,           /,           ,           ...   \n",
       "\n",
       "                                            Repo Name  \\\n",
       "0   [flutter,           /,           ,            ...   \n",
       "1   [facebook,           /,           ,           ...   \n",
       "2   [justjavac,           /,           ,          ...   \n",
       "3   [Genymobile,           /,           ,         ...   \n",
       "4   [Hack-with-Github,           /,           ,   ...   \n",
       "5   [Solido,           /,           ,             ...   \n",
       "6   [google,           /,           ,             ...   \n",
       "7   [wasabeef,           /,           ,           ...   \n",
       "8   [square,           /,           ,             ...   \n",
       "9   [android,           /,           ,            ...   \n",
       "10  [square,           /,           ,             ...   \n",
       "11  [laurent22,           /,           ,          ...   \n",
       "12  [dcloudio,           /,           ,           ...   \n",
       "13  [fastlane,           /,           ,           ...   \n",
       "14  [appwrite,           /,           ,           ...   \n",
       "15  [PhilJay,           /,           ,            ...   \n",
       "16  [skylot,           /,           ,             ...   \n",
       "17  [airbnb,           /,           ,             ...   \n",
       "18  [shadowsocks,           /,           ,        ...   \n",
       "19  [bumptech,           /,           ,           ...   \n",
       "\n",
       "                                          Description  Stars  \n",
       "0   Flutter makes it easy and fast to build beauti...   158k  \n",
       "1   A framework for building native applications u...   113k  \n",
       "2                                📚 免费的计算机编程类中文书籍，欢迎投稿   106k  \n",
       "3             Display and control your Android device  92.8k  \n",
       "4   A collection of various awesome lists for hack...  70.4k  \n",
       "5   An awesome list that curates the best Flutter ...  48.9k  \n",
       "6                     Material Design icons by Google  48.8k  \n",
       "7   A curated list of awesome Android UI/UX libraries  47.6k  \n",
       "8   Square’s meticulous HTTP client for the JVM, A...  44.6k  \n",
       "9   A collection of samples to discuss and showcas...  43.2k  \n",
       "10    A type-safe HTTP client for Android and the JVM  42.1k  \n",
       "11  Joplin - the secure note taking and to-do app ...  39.2k  \n",
       "12            A cross-platform framework using Vue.js  38.7k  \n",
       "13  🚀 The easiest way to automate building and rel...  37.7k  \n",
       "14                     Build like a team of hundreds_  37.5k  \n",
       "15  A powerful 🚀 Android chart view / graph view l...  36.9k  \n",
       "16                             Dex to Java decompiler  36.7k  \n",
       "17  Render After Effects animations natively on An...  34.3k  \n",
       "18                   A shadowsocks client for Android  34.1k  \n",
       "19  An image loading and caching library for Andro...    34k  "
      ]
     },
     "execution_count": 171,
     "metadata": {},
     "output_type": "execute_result"
    }
   ],
   "source": [
    "#Converting Data into DataFrame.\n",
    "\n",
    "FinalData = {\n",
    "    'Username' : UsernameList,\n",
    "    'Repo Name' : RepoList,\n",
    "    'Description' : DescriptionList,\n",
    "    'Stars' : StarList\n",
    "}\n",
    "\n",
    "AndroidData = pd.DataFrame(FinalData, index=None)\n",
    "AndroidData"
   ]
  },
  {
   "cell_type": "code",
   "execution_count": 172,
   "id": "3de41910",
   "metadata": {},
   "outputs": [],
   "source": [
    "#Exporting Data into CSV.\n",
    "\n",
    "AndroidData.to_csv('AndroidGithubDetails')"
   ]
  }
 ],
 "metadata": {
  "kernelspec": {
   "display_name": "Python 3 (ipykernel)",
   "language": "python",
   "name": "python3"
  },
  "language_info": {
   "codemirror_mode": {
    "name": "ipython",
    "version": 3
   },
   "file_extension": ".py",
   "mimetype": "text/x-python",
   "name": "python",
   "nbconvert_exporter": "python",
   "pygments_lexer": "ipython3",
   "version": "3.10.9"
  }
 },
 "nbformat": 4,
 "nbformat_minor": 5
}
